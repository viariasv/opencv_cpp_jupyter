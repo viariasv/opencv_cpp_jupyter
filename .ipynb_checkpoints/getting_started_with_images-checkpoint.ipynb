{
 "cells": [
  {
   "cell_type": "markdown",
   "metadata": {},
   "source": [
    "# <font style=\"color:rgb(50,120,229)\">Overview </font>\n",
    "\n",
    "We have already discussed about how an image is formed and how it is stored. In this module, we will dive into the code and check out what are the functions available in OpenCV for manipulating images.\n",
    "\n",
    "We will cover the following:\n",
    "1. Image I/O - Read, Write & Display an image\n",
    "2. Image Properties - color, channels, shape, image structure\n",
    "3. Creating new images, accessing pixels and region of interest (ROI)"
   ]
  },
  {
   "cell_type": "markdown",
   "metadata": {},
   "source": [
    "# <font style=\"color:rgb(50,120,229)\">Import Libraries</font>"
   ]
  },
  {
   "cell_type": "code",
   "execution_count": 1,
   "metadata": {},
   "outputs": [],
   "source": [
    "// Include libraries\n",
    "#include \"resources/lib/public/includeLibraries.h\"\n",
    "#include <opencv2/opencv.hpp>\n",
    "#include <opencv2/core.hpp>\n",
    "#include <opencv2/highgui.hpp>"
   ]
  },
  {
   "cell_type": "code",
   "execution_count": 2,
   "metadata": {
    "scrolled": true
   },
   "outputs": [
    {
     "name": "stderr",
     "output_type": "stream",
     "text": [
      "IncrementalExecutor::executeFunction: symbol 'PyTuple_SetItem' unresolved while linking function '_GLOBAL__sub_I_cling_module_6'!\n",
      "IncrementalExecutor::executeFunction: symbol 'PyErr_Print' unresolved while linking function '_GLOBAL__sub_I_cling_module_6'!\n",
      "IncrementalExecutor::executeFunction: symbol 'PyErr_Format' unresolved while linking function '_GLOBAL__sub_I_cling_module_6'!\n",
      "IncrementalExecutor::executeFunction: symbol 'PyDict_New' unresolved while linking function '_GLOBAL__sub_I_cling_module_6'!\n",
      "IncrementalExecutor::executeFunction: symbol 'PyCapsule_Type' unresolved while linking function '_GLOBAL__sub_I_cling_module_6'!\n",
      "IncrementalExecutor::executeFunction: symbol 'PyTuple_New' unresolved while linking function '_GLOBAL__sub_I_cling_module_6'!\n",
      "IncrementalExecutor::executeFunction: symbol 'PyDict_SetItemString' unresolved while linking function '_GLOBAL__sub_I_cling_module_6'!\n",
      "IncrementalExecutor::executeFunction: symbol 'Py_Finalize' unresolved while linking function '_GLOBAL__sub_I_cling_module_6'!\n",
      "IncrementalExecutor::executeFunction: symbol 'Py_SetProgramName' unresolved while linking function '_GLOBAL__sub_I_cling_module_6'!\n",
      "IncrementalExecutor::executeFunction: symbol 'PyErr_SetString' unresolved while linking function '_GLOBAL__sub_I_cling_module_6'!\n",
      "IncrementalExecutor::executeFunction: symbol '_Py_Dealloc' unresolved while linking function '_GLOBAL__sub_I_cling_module_6'!\n",
      "IncrementalExecutor::executeFunction: symbol '_Py_TrueStruct' unresolved while linking function '_GLOBAL__sub_I_cling_module_6'!\n",
      "IncrementalExecutor::executeFunction: symbol 'PyFloat_FromDouble' unresolved while linking function '_GLOBAL__sub_I_cling_module_6'!\n",
      "IncrementalExecutor::executeFunction: symbol 'PyCapsule_GetPointer' unresolved while linking function '_GLOBAL__sub_I_cling_module_6'!\n",
      "IncrementalExecutor::executeFunction: symbol 'PyLong_FromLong' unresolved while linking function '_GLOBAL__sub_I_cling_module_6'!\n",
      "IncrementalExecutor::executeFunction: symbol 'PyExc_ImportError' unresolved while linking function '_GLOBAL__sub_I_cling_module_6'!\n",
      "IncrementalExecutor::executeFunction: symbol 'PyObject_Call' unresolved while linking function '_GLOBAL__sub_I_cling_module_6'!\n",
      "IncrementalExecutor::executeFunction: symbol 'PyImport_ImportModule' unresolved while linking function '_GLOBAL__sub_I_cling_module_6'!\n",
      "IncrementalExecutor::executeFunction: symbol 'PyObject_CallMethod' unresolved while linking function '_GLOBAL__sub_I_cling_module_6'!\n",
      "IncrementalExecutor::executeFunction: symbol 'PyExc_RuntimeError' unresolved while linking function '_GLOBAL__sub_I_cling_module_6'!\n",
      "IncrementalExecutor::executeFunction: symbol 'PyUnicode_FromString' unresolved while linking function '_GLOBAL__sub_I_cling_module_6'!\n",
      "IncrementalExecutor::executeFunction: symbol 'PyImport_Import' unresolved while linking function '_GLOBAL__sub_I_cling_module_6'!\n",
      "IncrementalExecutor::executeFunction: symbol 'Py_Initialize' unresolved while linking function '_GLOBAL__sub_I_cling_module_6'!\n",
      "IncrementalExecutor::executeFunction: symbol '_Py_FalseStruct' unresolved while linking function '_GLOBAL__sub_I_cling_module_6'!\n",
      "IncrementalExecutor::executeFunction: symbol 'PyObject_GetAttrString' unresolved while linking function '_GLOBAL__sub_I_cling_module_6'!\n",
      "IncrementalExecutor::executeFunction: symbol 'PyObject_CallObject' unresolved while linking function '_GLOBAL__sub_I_cling_module_6'!\n",
      "IncrementalExecutor::executeFunction: symbol 'PyExc_AttributeError' unresolved while linking function '_GLOBAL__sub_I_cling_module_6'!\n",
      "IncrementalExecutor::executeFunction: symbol 'PyFunction_Type' unresolved while linking function '_GLOBAL__sub_I_cling_module_6'!\n"
     ]
    }
   ],
   "source": [
    "#include \"resources/lib/public/displayImages.h\"\n",
    "#include \"resources/lib/public/matplotlibcpp.h\""
   ]
  },
  {
   "cell_type": "code",
   "execution_count": 3,
   "metadata": {},
   "outputs": [],
   "source": [
    "using namespace std;"
   ]
  },
  {
   "cell_type": "code",
   "execution_count": 4,
   "metadata": {},
   "outputs": [],
   "source": [
    "using namespace cv;"
   ]
  },
  {
   "cell_type": "code",
   "execution_count": 5,
   "metadata": {},
   "outputs": [],
   "source": [
    "using namespace matplotlibcpp;"
   ]
  }
 ],
 "metadata": {
  "kernelspec": {
   "display_name": "C++14",
   "language": "C++14",
   "name": "xcpp14"
  },
  "language_info": {
   "codemirror_mode": "text/x-c++src",
   "file_extension": ".cpp",
   "mimetype": "text/x-c++src",
   "name": "c++",
   "version": "14"
  }
 },
 "nbformat": 4,
 "nbformat_minor": 2
}
